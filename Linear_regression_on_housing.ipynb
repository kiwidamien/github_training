{
 "cells": [
  {
   "cell_type": "markdown",
   "metadata": {},
   "source": [
    "## Import libraries"
   ]
  },
  {
   "cell_type": "code",
   "execution_count": 1,
   "metadata": {
    "ExecuteTime": {
     "end_time": "2019-05-03T22:40:41.540402Z",
     "start_time": "2019-05-03T22:40:40.249695Z"
    }
   },
   "outputs": [],
   "source": [
    "import pandas as pd\n",
    "import numpy as np\n",
    "import matplotlib.pyplot as plt\n",
    "\n",
    "from sklearn.linear_model import Lasso\n",
    "from sklearn.model_selection import train_test_split, cross_val_score, GridSearchCV\n",
    "from sklearn.pipeline import Pipeline\n",
    "from sklearn.preprocessing import RobustScaler\n",
    "from sklearn.metrics import r2_score, make_scorer\n",
    "from sklearn.utils import resample\n",
    "\n",
    "from bootstrap import get_bootstrap_coefs\n",
    "\n",
    "%matplotlib inline"
   ]
  },
  {
   "cell_type": "markdown",
   "metadata": {},
   "source": [
    "## Read in data"
   ]
  },
  {
   "cell_type": "code",
   "execution_count": 2,
   "metadata": {
    "ExecuteTime": {
     "end_time": "2019-05-03T22:40:41.566963Z",
     "start_time": "2019-05-03T22:40:41.542563Z"
    }
   },
   "outputs": [
    {
     "data": {
      "text/html": [
       "<div>\n",
       "<style scoped>\n",
       "    .dataframe tbody tr th:only-of-type {\n",
       "        vertical-align: middle;\n",
       "    }\n",
       "\n",
       "    .dataframe tbody tr th {\n",
       "        vertical-align: top;\n",
       "    }\n",
       "\n",
       "    .dataframe thead th {\n",
       "        text-align: right;\n",
       "    }\n",
       "</style>\n",
       "<table border=\"1\" class=\"dataframe\">\n",
       "  <thead>\n",
       "    <tr style=\"text-align: right;\">\n",
       "      <th></th>\n",
       "      <th>CRIM</th>\n",
       "      <th>ZN</th>\n",
       "      <th>INDUS</th>\n",
       "      <th>CHAS</th>\n",
       "      <th>NOX</th>\n",
       "      <th>RM</th>\n",
       "      <th>AGE</th>\n",
       "      <th>DIS</th>\n",
       "      <th>RAD</th>\n",
       "      <th>TAX</th>\n",
       "      <th>PTRATIO</th>\n",
       "      <th>B</th>\n",
       "      <th>LSTAT</th>\n",
       "      <th>MEDV</th>\n",
       "    </tr>\n",
       "  </thead>\n",
       "  <tbody>\n",
       "    <tr>\n",
       "      <th>0</th>\n",
       "      <td>0.00632</td>\n",
       "      <td>18.0</td>\n",
       "      <td>2.31</td>\n",
       "      <td>0</td>\n",
       "      <td>0.538</td>\n",
       "      <td>6.575</td>\n",
       "      <td>65.2</td>\n",
       "      <td>4.0900</td>\n",
       "      <td>1</td>\n",
       "      <td>296</td>\n",
       "      <td>15.3</td>\n",
       "      <td>396.90</td>\n",
       "      <td>4.98</td>\n",
       "      <td>24.0</td>\n",
       "    </tr>\n",
       "    <tr>\n",
       "      <th>1</th>\n",
       "      <td>0.02731</td>\n",
       "      <td>0.0</td>\n",
       "      <td>7.07</td>\n",
       "      <td>0</td>\n",
       "      <td>0.469</td>\n",
       "      <td>6.421</td>\n",
       "      <td>78.9</td>\n",
       "      <td>4.9671</td>\n",
       "      <td>2</td>\n",
       "      <td>242</td>\n",
       "      <td>17.8</td>\n",
       "      <td>396.90</td>\n",
       "      <td>9.14</td>\n",
       "      <td>21.6</td>\n",
       "    </tr>\n",
       "    <tr>\n",
       "      <th>2</th>\n",
       "      <td>0.02729</td>\n",
       "      <td>0.0</td>\n",
       "      <td>7.07</td>\n",
       "      <td>0</td>\n",
       "      <td>0.469</td>\n",
       "      <td>7.185</td>\n",
       "      <td>61.1</td>\n",
       "      <td>4.9671</td>\n",
       "      <td>2</td>\n",
       "      <td>242</td>\n",
       "      <td>17.8</td>\n",
       "      <td>392.83</td>\n",
       "      <td>4.03</td>\n",
       "      <td>34.7</td>\n",
       "    </tr>\n",
       "    <tr>\n",
       "      <th>3</th>\n",
       "      <td>0.03237</td>\n",
       "      <td>0.0</td>\n",
       "      <td>2.18</td>\n",
       "      <td>0</td>\n",
       "      <td>0.458</td>\n",
       "      <td>6.998</td>\n",
       "      <td>45.8</td>\n",
       "      <td>6.0622</td>\n",
       "      <td>3</td>\n",
       "      <td>222</td>\n",
       "      <td>18.7</td>\n",
       "      <td>394.63</td>\n",
       "      <td>2.94</td>\n",
       "      <td>33.4</td>\n",
       "    </tr>\n",
       "    <tr>\n",
       "      <th>4</th>\n",
       "      <td>0.06905</td>\n",
       "      <td>0.0</td>\n",
       "      <td>2.18</td>\n",
       "      <td>0</td>\n",
       "      <td>0.458</td>\n",
       "      <td>7.147</td>\n",
       "      <td>54.2</td>\n",
       "      <td>6.0622</td>\n",
       "      <td>3</td>\n",
       "      <td>222</td>\n",
       "      <td>18.7</td>\n",
       "      <td>396.90</td>\n",
       "      <td>5.33</td>\n",
       "      <td>36.2</td>\n",
       "    </tr>\n",
       "  </tbody>\n",
       "</table>\n",
       "</div>"
      ],
      "text/plain": [
       "      CRIM    ZN  INDUS  CHAS    NOX     RM   AGE     DIS  RAD  TAX  PTRATIO  \\\n",
       "0  0.00632  18.0   2.31     0  0.538  6.575  65.2  4.0900    1  296     15.3   \n",
       "1  0.02731   0.0   7.07     0  0.469  6.421  78.9  4.9671    2  242     17.8   \n",
       "2  0.02729   0.0   7.07     0  0.469  7.185  61.1  4.9671    2  242     17.8   \n",
       "3  0.03237   0.0   2.18     0  0.458  6.998  45.8  6.0622    3  222     18.7   \n",
       "4  0.06905   0.0   2.18     0  0.458  7.147  54.2  6.0622    3  222     18.7   \n",
       "\n",
       "        B  LSTAT  MEDV  \n",
       "0  396.90   4.98  24.0  \n",
       "1  396.90   9.14  21.6  \n",
       "2  392.83   4.03  34.7  \n",
       "3  394.63   2.94  33.4  \n",
       "4  396.90   5.33  36.2  "
      ]
     },
     "execution_count": 2,
     "metadata": {},
     "output_type": "execute_result"
    }
   ],
   "source": [
    "housing = pd.read_csv('data/boston_house_prices.csv')\n",
    "housing.head()"
   ]
  },
  {
   "cell_type": "markdown",
   "metadata": {},
   "source": [
    "## Update to a cross-validated approach\n",
    "\n",
    "\n",
    "### TODO:\n",
    "* [x] Do a train-test split\n",
    "* [x] Do cross-validation and regularization\n",
    "* [x] Estimate parameters using Bootstrapping"
   ]
  },
  {
   "cell_type": "code",
   "execution_count": 3,
   "metadata": {
    "ExecuteTime": {
     "end_time": "2019-05-03T22:40:41.572917Z",
     "start_time": "2019-05-03T22:40:41.568891Z"
    }
   },
   "outputs": [],
   "source": [
    "features = housing.drop('MEDV', axis=1)\n",
    "target = housing['MEDV']"
   ]
  },
  {
   "cell_type": "code",
   "execution_count": 4,
   "metadata": {
    "ExecuteTime": {
     "end_time": "2019-05-03T22:40:41.701743Z",
     "start_time": "2019-05-03T22:40:41.574441Z"
    }
   },
   "outputs": [],
   "source": [
    "# Add in new features\n",
    "features['RM_sq'] = features['RM']**2\n",
    "features['log_LSTAT'] = np.log1p(features['LSTAT'])"
   ]
  },
  {
   "cell_type": "code",
   "execution_count": 5,
   "metadata": {
    "ExecuteTime": {
     "end_time": "2019-05-03T22:40:41.708200Z",
     "start_time": "2019-05-03T22:40:41.703634Z"
    }
   },
   "outputs": [],
   "source": [
    "features_train, features_test, target_train, target_test = train_test_split(features, target,\n",
    "                                                                           random_state=42)\n"
   ]
  },
  {
   "cell_type": "markdown",
   "metadata": {},
   "source": [
    "## Pipelining\n",
    "\n",
    "We should be scaling our data inside each fold, so we should group the scaler and the Lasso regression into a pipeline."
   ]
  },
  {
   "cell_type": "code",
   "execution_count": 6,
   "metadata": {
    "ExecuteTime": {
     "end_time": "2019-05-03T22:40:41.714773Z",
     "start_time": "2019-05-03T22:40:41.710332Z"
    }
   },
   "outputs": [],
   "source": [
    "scaler = RobustScaler()\n",
    "lasso_regressor = Lasso(max_iter=5000)\n",
    "\n",
    "pipeline = Pipeline([\n",
    "    ('scaler', scaler),\n",
    "    ('lasso', lasso_regressor)\n",
    "])\n",
    "\n",
    "params = {\n",
    "    'lasso__alpha': np.logspace(-4, 2, 100)\n",
    "}"
   ]
  },
  {
   "cell_type": "code",
   "execution_count": 7,
   "metadata": {
    "ExecuteTime": {
     "end_time": "2019-05-03T22:40:45.201510Z",
     "start_time": "2019-05-03T22:40:41.716467Z"
    }
   },
   "outputs": [
    {
     "data": {
      "text/plain": [
       "GridSearchCV(cv=5, error_score='raise-deprecating',\n",
       "       estimator=Pipeline(memory=None,\n",
       "     steps=[('scaler', RobustScaler(copy=True, quantile_range=(25.0, 75.0), with_centering=True,\n",
       "       with_scaling=True)), ('lasso', Lasso(alpha=1.0, copy_X=True, fit_intercept=True, max_iter=5000,\n",
       "   normalize=False, positive=False, precompute=False, random_state=None,\n",
       "   selection='cyclic', tol=0.0001, warm_start=False))]),\n",
       "       fit_params=None, iid=False, n_jobs=None,\n",
       "       param_grid={'lasso__alpha': array([1.00000e-04, 1.14976e-04, ..., 8.69749e+01, 1.00000e+02])},\n",
       "       pre_dispatch='2*n_jobs', refit=True, return_train_score=True,\n",
       "       scoring=None, verbose=0)"
      ]
     },
     "execution_count": 7,
     "metadata": {},
     "output_type": "execute_result"
    }
   ],
   "source": [
    "grid = GridSearchCV(pipeline, param_grid=params, cv=5, iid=False, return_train_score=True)\n",
    "grid.fit(features_train, target_train)"
   ]
  },
  {
   "cell_type": "code",
   "execution_count": 8,
   "metadata": {
    "ExecuteTime": {
     "end_time": "2019-05-03T22:40:45.207664Z",
     "start_time": "2019-05-03T22:40:45.203695Z"
    }
   },
   "outputs": [
    {
     "data": {
      "text/plain": [
       "0.01"
      ]
     },
     "execution_count": 8,
     "metadata": {},
     "output_type": "execute_result"
    }
   ],
   "source": [
    "# What is the best value of alpha?\n",
    "grid.best_estimator_.named_steps['lasso'].alpha"
   ]
  },
  {
   "cell_type": "code",
   "execution_count": 9,
   "metadata": {
    "ExecuteTime": {
     "end_time": "2019-05-03T22:40:45.213939Z",
     "start_time": "2019-05-03T22:40:45.209442Z"
    }
   },
   "outputs": [
    {
     "data": {
      "text/plain": [
       "0.7959320698178575"
      ]
     },
     "execution_count": 9,
     "metadata": {},
     "output_type": "execute_result"
    }
   ],
   "source": [
    "# what is our best mean test score?\n",
    "best_result_index = np.argmax(grid.cv_results_['mean_test_score'])\n",
    "grid.cv_results_['mean_test_score'][best_result_index]"
   ]
  },
  {
   "cell_type": "code",
   "execution_count": 10,
   "metadata": {
    "ExecuteTime": {
     "end_time": "2019-05-03T22:40:45.219767Z",
     "start_time": "2019-05-03T22:40:45.215597Z"
    }
   },
   "outputs": [
    {
     "data": {
      "text/plain": [
       "0.01"
      ]
     },
     "execution_count": 10,
     "metadata": {},
     "output_type": "execute_result"
    }
   ],
   "source": [
    "# Check this has the best alpha described above?\n",
    "grid.cv_results_['param_lasso__alpha'][best_result_index]"
   ]
  },
  {
   "cell_type": "markdown",
   "metadata": {},
   "source": [
    "Success! \n",
    "\n",
    "Our average $R^2$ on the hold out set is 0.7959.\n",
    "\n",
    "We should reserve the test set for when we have our final model that we want to use."
   ]
  },
  {
   "cell_type": "code",
   "execution_count": 11,
   "metadata": {
    "ExecuteTime": {
     "end_time": "2019-05-03T22:40:45.224917Z",
     "start_time": "2019-05-03T22:40:45.221862Z"
    }
   },
   "outputs": [],
   "source": [
    "best_alpha = grid.best_estimator_.named_steps['lasso'].alpha"
   ]
  },
  {
   "cell_type": "markdown",
   "metadata": {},
   "source": [
    "## Bootstrapping"
   ]
  },
  {
   "cell_type": "markdown",
   "metadata": {},
   "source": [
    "We want an estimate for the coefficient for each feature. We can do this with two goals in mind:\n",
    "- determining feature importance\n",
    "- interpretation\n",
    "\n",
    "We will emphasize interpretation here, which means that we need to train our models on the scaled features (so that regularization makes sense) but then report the coefficients on the original scale of the features (so that the interpretation is natural).\n",
    "\n",
    "Note that the final coefficients should **not**  be compared to determine the importance of features, because we are looking at the features on different scales."
   ]
  },
  {
   "cell_type": "code",
   "execution_count": 12,
   "metadata": {
    "ExecuteTime": {
     "end_time": "2019-05-03T22:40:45.231197Z",
     "start_time": "2019-05-03T22:40:45.227074Z"
    }
   },
   "outputs": [
    {
     "data": {
      "text/plain": [
       "True"
      ]
     },
     "execution_count": 12,
     "metadata": {},
     "output_type": "execute_result"
    }
   ],
   "source": [
    "type(features_train) == pd.core.frame.DataFrame"
   ]
  },
  {
   "cell_type": "code",
   "execution_count": 13,
   "metadata": {
    "ExecuteTime": {
     "end_time": "2019-05-03T22:40:52.754852Z",
     "start_time": "2019-05-03T22:40:45.233344Z"
    }
   },
   "outputs": [],
   "source": [
    "coefficients = get_bootstrap_coefs(RobustScaler(), Lasso(alpha=0.01, max_iter=5000), \n",
    "                                   features_train, target_train,\n",
    "                                   n_estimators=1000, return_scaled=False)"
   ]
  },
  {
   "cell_type": "code",
   "execution_count": 14,
   "metadata": {
    "ExecuteTime": {
     "end_time": "2019-05-03T22:40:54.216598Z",
     "start_time": "2019-05-03T22:40:52.757012Z"
    }
   },
   "outputs": [
    {
     "data": {
      "image/png": "[encoded data removed]",
      "text/plain": [
       "<matplotlib.figure.Figure at 0x1a190388d0>"
      ]
     },
     "metadata": {},
     "output_type": "display_data"
    }
   ],
   "source": [
    "fig, axes = plt.subplots(ncols=2, nrows=len(features.columns)//2 + 1, \n",
    "                         sharey=True, squeeze=True, figsize=(12,20))\n",
    "\n",
    "for index, feature_name in enumerate(features_train.columns):\n",
    "    feature_values = features_train[feature_name]\n",
    "    best_est = np.mean(coefficients[:, index])\n",
    "    \n",
    "    col = index % 2\n",
    "    row = index // 2\n",
    "    this_plot = axes[row][col]\n",
    "    this_plot.hist(coefficients[:, index])\n",
    "    this_plot.set_xlabel(feature_name)\n",
    "    this_plot.axvline(best_est, color='k')"
   ]
  },
  {
   "cell_type": "code",
   "execution_count": 15,
   "metadata": {
    "ExecuteTime": {
     "end_time": "2019-05-03T22:40:54.225567Z",
     "start_time": "2019-05-03T22:40:54.218833Z"
    }
   },
   "outputs": [],
   "source": [
    "def get_percentile_frame(coeff, names, ci=95):\n",
    "    lower = (100 - ci)/2\n",
    "    upper = 100 - lower\n",
    "    percentiles = np.percentile(coefficients, [lower, upper], axis=0)\n",
    "    \n",
    "    centeroid = np.mean(coeff, axis=0)\n",
    "    #return np.array([centeroid, percentiles[:,0], percentiles[:, 1]])\n",
    "    return pd.DataFrame(np.array([centeroid, percentiles[0,:], percentiles[1,:]]).T,\n",
    "                        index=names, columns=['centeroid', 'lower', 'upper'])"
   ]
  },
  {
   "cell_type": "code",
   "execution_count": 16,
   "metadata": {
    "ExecuteTime": {
     "end_time": "2019-05-03T22:40:54.237014Z",
     "start_time": "2019-05-03T22:40:54.227512Z"
    }
   },
   "outputs": [
    {
     "data": {
      "text/html": [
       "<div>\n",
       "<style scoped>\n",
       "    .dataframe tbody tr th:only-of-type {\n",
       "        vertical-align: middle;\n",
       "    }\n",
       "\n",
       "    .dataframe tbody tr th {\n",
       "        vertical-align: top;\n",
       "    }\n",
       "\n",
       "    .dataframe thead th {\n",
       "        text-align: right;\n",
       "    }\n",
       "</style>\n",
       "<table border=\"1\" class=\"dataframe\">\n",
       "  <thead>\n",
       "    <tr style=\"text-align: right;\">\n",
       "      <th></th>\n",
       "      <th>centeroid</th>\n",
       "      <th>lower</th>\n",
       "      <th>upper</th>\n",
       "    </tr>\n",
       "  </thead>\n",
       "  <tbody>\n",
       "    <tr>\n",
       "      <th>CRIM</th>\n",
       "      <td>-0.160932</td>\n",
       "      <td>-0.202660</td>\n",
       "      <td>-0.133142</td>\n",
       "    </tr>\n",
       "    <tr>\n",
       "      <th>ZN</th>\n",
       "      <td>0.006314</td>\n",
       "      <td>-0.007367</td>\n",
       "      <td>0.020885</td>\n",
       "    </tr>\n",
       "    <tr>\n",
       "      <th>INDUS</th>\n",
       "      <td>0.028803</td>\n",
       "      <td>-0.009340</td>\n",
       "      <td>0.077411</td>\n",
       "    </tr>\n",
       "    <tr>\n",
       "      <th>CHAS</th>\n",
       "      <td>1.989872</td>\n",
       "      <td>0.452389</td>\n",
       "      <td>3.601713</td>\n",
       "    </tr>\n",
       "    <tr>\n",
       "      <th>NOX</th>\n",
       "      <td>-13.323908</td>\n",
       "      <td>-16.985402</td>\n",
       "      <td>-9.779385</td>\n",
       "    </tr>\n",
       "    <tr>\n",
       "      <th>RM</th>\n",
       "      <td>-16.937352</td>\n",
       "      <td>-24.187971</td>\n",
       "      <td>-9.208052</td>\n",
       "    </tr>\n",
       "    <tr>\n",
       "      <th>AGE</th>\n",
       "      <td>0.004981</td>\n",
       "      <td>-0.013665</td>\n",
       "      <td>0.024390</td>\n",
       "    </tr>\n",
       "    <tr>\n",
       "      <th>DIS</th>\n",
       "      <td>-1.000483</td>\n",
       "      <td>-1.258347</td>\n",
       "      <td>-0.752581</td>\n",
       "    </tr>\n",
       "    <tr>\n",
       "      <th>RAD</th>\n",
       "      <td>0.210788</td>\n",
       "      <td>0.139685</td>\n",
       "      <td>0.280882</td>\n",
       "    </tr>\n",
       "    <tr>\n",
       "      <th>TAX</th>\n",
       "      <td>-0.007563</td>\n",
       "      <td>-0.011000</td>\n",
       "      <td>-0.004137</td>\n",
       "    </tr>\n",
       "    <tr>\n",
       "      <th>PTRATIO</th>\n",
       "      <td>-0.716271</td>\n",
       "      <td>-0.874338</td>\n",
       "      <td>-0.551898</td>\n",
       "    </tr>\n",
       "    <tr>\n",
       "      <th>B</th>\n",
       "      <td>0.009897</td>\n",
       "      <td>0.007327</td>\n",
       "      <td>0.012033</td>\n",
       "    </tr>\n",
       "    <tr>\n",
       "      <th>LSTAT</th>\n",
       "      <td>0.149624</td>\n",
       "      <td>0.000000</td>\n",
       "      <td>0.320320</td>\n",
       "    </tr>\n",
       "    <tr>\n",
       "      <th>RM_sq</th>\n",
       "      <td>1.545992</td>\n",
       "      <td>0.920212</td>\n",
       "      <td>2.147264</td>\n",
       "    </tr>\n",
       "    <tr>\n",
       "      <th>log_LSTAT</th>\n",
       "      <td>-11.247758</td>\n",
       "      <td>-14.358353</td>\n",
       "      <td>-8.409036</td>\n",
       "    </tr>\n",
       "  </tbody>\n",
       "</table>\n",
       "</div>"
      ],
      "text/plain": [
       "           centeroid      lower     upper\n",
       "CRIM       -0.160932  -0.202660 -0.133142\n",
       "ZN          0.006314  -0.007367  0.020885\n",
       "INDUS       0.028803  -0.009340  0.077411\n",
       "CHAS        1.989872   0.452389  3.601713\n",
       "NOX       -13.323908 -16.985402 -9.779385\n",
       "RM        -16.937352 -24.187971 -9.208052\n",
       "AGE         0.004981  -0.013665  0.024390\n",
       "DIS        -1.000483  -1.258347 -0.752581\n",
       "RAD         0.210788   0.139685  0.280882\n",
       "TAX        -0.007563  -0.011000 -0.004137\n",
       "PTRATIO    -0.716271  -0.874338 -0.551898\n",
       "B           0.009897   0.007327  0.012033\n",
       "LSTAT       0.149624   0.000000  0.320320\n",
       "RM_sq       1.545992   0.920212  2.147264\n",
       "log_LSTAT -11.247758 -14.358353 -8.409036"
      ]
     },
     "execution_count": 16,
     "metadata": {},
     "output_type": "execute_result"
    }
   ],
   "source": [
    "percentiles = get_percentile_frame(coefficients, features.columns)\n",
    "percentiles"
   ]
  },
  {
   "cell_type": "code",
   "execution_count": 17,
   "metadata": {
    "ExecuteTime": {
     "end_time": "2019-05-03T22:40:54.245562Z",
     "start_time": "2019-05-03T22:40:54.238826Z"
    }
   },
   "outputs": [],
   "source": [
    "percentiles.to_html('confidence_intervals.html')"
   ]
  },
  {
   "cell_type": "markdown",
   "metadata": {},
   "source": [
    "## Now make the model using all the training data"
   ]
  },
  {
   "cell_type": "code",
   "execution_count": 18,
   "metadata": {
    "ExecuteTime": {
     "end_time": "2019-05-03T22:40:54.258872Z",
     "start_time": "2019-05-03T22:40:54.247373Z"
    }
   },
   "outputs": [
    {
     "data": {
      "text/plain": [
       "Pipeline(memory=None,\n",
       "     steps=[('scaler', RobustScaler(copy=True, quantile_range=(25.0, 75.0), with_centering=True,\n",
       "       with_scaling=True)), ('lasso', Lasso(alpha=0.01, copy_X=True, fit_intercept=True, max_iter=5000,\n",
       "   normalize=False, positive=False, precompute=False, random_state=None,\n",
       "   selection='cyclic', tol=0.0001, warm_start=False))])"
      ]
     },
     "execution_count": 18,
     "metadata": {},
     "output_type": "execute_result"
    }
   ],
   "source": [
    "best_pipeline = pipeline.set_params(lasso__alpha=best_alpha)\n",
    "best_pipeline.fit(features_train, target_train)"
   ]
  },
  {
   "cell_type": "markdown",
   "metadata": {},
   "source": [
    "While working on this, let's look at the coefficients of the `lasso_regressor`. It is common to use lasso (aka L1 regression) to do feature selection, as it tends to set the coefficients of unimportant features to zero (at least more aggressively than ridge does)."
   ]
  },
  {
   "cell_type": "code",
   "execution_count": 19,
   "metadata": {
    "ExecuteTime": {
     "end_time": "2019-05-03T22:40:54.265597Z",
     "start_time": "2019-05-03T22:40:54.260798Z"
    }
   },
   "outputs": [
    {
     "data": {
      "text/plain": [
       "array([ -0.50002798,   0.11634726,   0.35107776,   1.97564197,\n",
       "        -2.48959564, -13.1041632 ,   0.22915318,  -3.19124254,\n",
       "         2.49327597,  -2.84810478,  -2.58035193,   0.19445818,\n",
       "         1.45585243,  15.00444862,  -9.00026506])"
      ]
     },
     "execution_count": 19,
     "metadata": {},
     "output_type": "execute_result"
    }
   ],
   "source": [
    "best_pipeline.named_steps['lasso'].coef_"
   ]
  },
  {
   "cell_type": "markdown",
   "metadata": {},
   "source": [
    "None of the coefficients were chosen as unimportant, i.e. Lasso set none of the coefficients to zero. After scaling, the coefficients are more or less comparable. Let's get a ranking of the most important features: \n",
    "\n",
    "(Note: unlike above, these coefficients are on the _scaled_ features, so we _can_ compare them to determine which features are the most important)"
   ]
  },
  {
   "cell_type": "code",
   "execution_count": 20,
   "metadata": {
    "ExecuteTime": {
     "end_time": "2019-05-03T22:40:54.273766Z",
     "start_time": "2019-05-03T22:40:54.267631Z"
    }
   },
   "outputs": [
    {
     "name": "stdout",
     "output_type": "stream",
     "text": [
      "RM_sq      15.0044\n",
      "RM         -13.1042\n",
      "log_LSTAT  -9.0003\n",
      "DIS        -3.1912\n",
      "TAX        -2.8481\n",
      "PTRATIO    -2.5804\n",
      "RAD        2.4933\n",
      "NOX        -2.4896\n",
      "CHAS       1.9756\n",
      "LSTAT      1.4559\n",
      "CRIM       -0.5000\n",
      "INDUS      0.3511\n",
      "AGE        0.2292\n",
      "B          0.1945\n",
      "ZN         0.1163\n"
     ]
    }
   ],
   "source": [
    "feature_importance = sorted(zip(best_pipeline.named_steps['lasso'].coef_, features.columns), \n",
    "                            key=lambda x: abs(x[0]),\n",
    "                            reverse=True)\n",
    "for coef, name in feature_importance:\n",
    "    print(f'{name:10s} {coef:6.4f}')"
   ]
  },
  {
   "cell_type": "code",
   "execution_count": 21,
   "metadata": {
    "ExecuteTime": {
     "end_time": "2019-05-03T22:40:54.280691Z",
     "start_time": "2019-05-03T22:40:54.275629Z"
    }
   },
   "outputs": [
    {
     "data": {
      "text/plain": [
       "0.8303996500507633"
      ]
     },
     "execution_count": 21,
     "metadata": {},
     "output_type": "execute_result"
    }
   ],
   "source": [
    "best_pipeline.score(features_train, target_train)"
   ]
  },
  {
   "cell_type": "markdown",
   "metadata": {},
   "source": [
    "Let's start organizing results into a table. We are removing test results, and only want to look at validation results. The training $R^2$ tells us how we did after retraining on all the training data\n",
    "\n",
    "| Method | Train $R^2$ | Validation $R^2$ |\n",
    "| --- | --- | --- |\n",
    "| OLS (Excel) | 0.74064 | N/A |\n",
    "| OLS (Python)| 0.74064 | N/A |\n",
    "| LassoCV (Python, scaled) | 0.7477 | N/A |\n",
    "| LassoCV (Python, scaled, extra features) |0.8303 | 0.7959 |"
   ]
  },
  {
   "cell_type": "markdown",
   "metadata": {},
   "source": [
    "Our test score is significantly lower than our training score, suggesting that our model is still overfitting."
   ]
  },
  {
   "cell_type": "markdown",
   "metadata": {},
   "source": [
    "## Plot of residuals"
   ]
  },
  {
   "cell_type": "markdown",
   "metadata": {},
   "source": [
    "In Excel, we include a plot of residuals for every feature. We will do the same thing here"
   ]
  },
  {
   "cell_type": "code",
   "execution_count": 22,
   "metadata": {
    "ExecuteTime": {
     "end_time": "2019-05-03T22:40:54.286608Z",
     "start_time": "2019-05-03T22:40:54.282394Z"
    }
   },
   "outputs": [],
   "source": [
    "\n",
    "residuals = target_train - best_pipeline.predict(features_train)"
   ]
  },
  {
   "cell_type": "code",
   "execution_count": 23,
   "metadata": {
    "ExecuteTime": {
     "end_time": "2019-05-03T22:40:55.419887Z",
     "start_time": "2019-05-03T22:40:54.288898Z"
    }
   },
   "outputs": [
    {
     "data": {
      "image/png": "[encoded data removed]",
      "text/plain": [
       "<matplotlib.figure.Figure at 0x1a2842eef0>"
      ]
     },
     "metadata": {},
     "output_type": "display_data"
    }
   ],
   "source": [
    "fig, axes = plt.subplots(ncols=2, nrows=len(features.columns)//2 + 1, \n",
    "                         sharey=True, squeeze=True, figsize=(12,20))\n",
    "\n",
    "for index, feature_name in enumerate(features_train.columns):\n",
    "    feature_values = features_train[feature_name]\n",
    "    col = index % 2\n",
    "    row = index // 2\n",
    "    this_plot = axes[row][col]\n",
    "    this_plot.plot(feature_values, residuals, 'bo')\n",
    "    this_plot.set_xlabel(feature_name)"
   ]
  },
  {
   "cell_type": "markdown",
   "metadata": {},
   "source": [
    "## Trying to look at multiplicative models"
   ]
  },
  {
   "cell_type": "code",
   "execution_count": 24,
   "metadata": {
    "ExecuteTime": {
     "end_time": "2019-05-03T22:40:55.426281Z",
     "start_time": "2019-05-03T22:40:55.421813Z"
    }
   },
   "outputs": [
    {
     "data": {
      "text/plain": [
       "Int64Index([182, 155, 280, 126, 329,  31, 113, 148, 432, 338,\n",
       "            ...\n",
       "            121, 505,  20, 188,  71, 106, 270, 348, 435, 102],\n",
       "           dtype='int64', length=379)"
      ]
     },
     "execution_count": 24,
     "metadata": {},
     "output_type": "execute_result"
    }
   ],
   "source": [
    "features_train.index"
   ]
  },
  {
   "cell_type": "code",
   "execution_count": 25,
   "metadata": {
    "ExecuteTime": {
     "end_time": "2019-05-03T22:40:55.432630Z",
     "start_time": "2019-05-03T22:40:55.428356Z"
    }
   },
   "outputs": [],
   "source": [
    "log_target = np.log(target)\n",
    "log_target_train = log_target[features_train.index]"
   ]
  },
  {
   "cell_type": "markdown",
   "metadata": {},
   "source": [
    "This is a little more complicated, as we are going to be using a scoring function that is the R^2 on the _original_ values (so it is comparable) even though we are doing the fitting on log values.\n",
    "\n",
    "To do this, we will need a custom scoring function."
   ]
  },
  {
   "cell_type": "code",
   "execution_count": 26,
   "metadata": {
    "ExecuteTime": {
     "end_time": "2019-05-03T22:40:55.439354Z",
     "start_time": "2019-05-03T22:40:55.434646Z"
    }
   },
   "outputs": [],
   "source": [
    "def r2_on_log_y(log_y_true, log_y_predict):\n",
    "    y_true = np.exp(log_y_true)\n",
    "    y_predict = np.exp(log_y_predict)\n",
    "    return r2_score(y_true, y_predict)\n",
    "\n",
    "r2_on_log_y = make_scorer(r2_on_log_y)"
   ]
  },
  {
   "cell_type": "code",
   "execution_count": 28,
   "metadata": {
    "ExecuteTime": {
     "end_time": "2019-05-03T22:41:04.595161Z",
     "start_time": "2019-05-03T22:41:01.346175Z"
    }
   },
   "outputs": [
    {
     "data": {
      "text/plain": [
       "GridSearchCV(cv=5, error_score='raise-deprecating',\n",
       "       estimator=Pipeline(memory=None,\n",
       "     steps=[('scaler', RobustScaler(copy=True, quantile_range=(25.0, 75.0), with_centering=True,\n",
       "       with_scaling=True)), ('lasso', Lasso(alpha=0.01, copy_X=True, fit_intercept=True, max_iter=5000,\n",
       "   normalize=False, positive=False, precompute=False, random_state=None,\n",
       "   selection='cyclic', tol=0.0001, warm_start=False))]),\n",
       "       fit_params=None, iid=False, n_jobs=None,\n",
       "       param_grid={'lasso__alpha': array([1.00000e-04, 1.14976e-04, ..., 8.69749e+01, 1.00000e+02])},\n",
       "       pre_dispatch='2*n_jobs', refit=True, return_train_score=True,\n",
       "       scoring=make_scorer(r2_on_log_y), verbose=0)"
      ]
     },
     "execution_count": 28,
     "metadata": {},
     "output_type": "execute_result"
    }
   ],
   "source": [
    "grid_log = GridSearchCV(pipeline, param_grid=params, cv=5, iid=False, \n",
    "                        return_train_score=True, scoring=r2_on_log_y)\n",
    "grid_log.fit(features_train, log_target_train)"
   ]
  },
  {
   "cell_type": "code",
   "execution_count": 29,
   "metadata": {
    "ExecuteTime": {
     "end_time": "2019-05-03T22:41:10.118059Z",
     "start_time": "2019-05-03T22:41:10.113299Z"
    }
   },
   "outputs": [
    {
     "data": {
      "text/plain": [
       "{'lasso__alpha': 0.0009326033468832199}"
      ]
     },
     "execution_count": 29,
     "metadata": {},
     "output_type": "execute_result"
    }
   ],
   "source": [
    "grid_log.best_params_"
   ]
  },
  {
   "cell_type": "code",
   "execution_count": 30,
   "metadata": {
    "ExecuteTime": {
     "end_time": "2019-05-03T22:41:10.369915Z",
     "start_time": "2019-05-03T22:41:10.365406Z"
    }
   },
   "outputs": [
    {
     "data": {
      "text/plain": [
       "0.7875805035490463"
      ]
     },
     "execution_count": 30,
     "metadata": {},
     "output_type": "execute_result"
    }
   ],
   "source": [
    "grid_log.best_score_"
   ]
  },
  {
   "cell_type": "code",
   "execution_count": 31,
   "metadata": {
    "ExecuteTime": {
     "end_time": "2019-05-03T22:41:10.561478Z",
     "start_time": "2019-05-03T22:41:10.548477Z"
    }
   },
   "outputs": [
    {
     "data": {
      "text/plain": [
       "Pipeline(memory=None,\n",
       "     steps=[('scaler', RobustScaler(copy=True, quantile_range=(25.0, 75.0), with_centering=True,\n",
       "       with_scaling=True)), ('lasso', Lasso(alpha=0.0009326033468832199, copy_X=True, fit_intercept=True,\n",
       "   max_iter=5000, normalize=False, positive=False, precompute=False,\n",
       "   random_state=None, selection='cyclic', tol=0.0001, warm_start=False))])"
      ]
     },
     "execution_count": 31,
     "metadata": {},
     "output_type": "execute_result"
    }
   ],
   "source": [
    "pipeline.set_params(lasso__alpha=grid_log.best_params_['lasso__alpha'])\n",
    "pipeline.fit(features_train, log_target_train)"
   ]
  },
  {
   "cell_type": "code",
   "execution_count": 32,
   "metadata": {
    "ExecuteTime": {
     "end_time": "2019-05-03T22:41:10.740803Z",
     "start_time": "2019-05-03T22:41:10.735092Z"
    }
   },
   "outputs": [
    {
     "data": {
      "text/plain": [
       "0.821010472818366"
      ]
     },
     "execution_count": 32,
     "metadata": {},
     "output_type": "execute_result"
    }
   ],
   "source": [
    "pipeline.score(features_train, log_target_train)"
   ]
  },
  {
   "cell_type": "markdown",
   "metadata": {},
   "source": [
    "| Method | Train $R^2$ | Validation $R^2$ |\n",
    "| --- | --- | --- |\n",
    "| OLS (Excel) | 0.74064 | N/A |\n",
    "| OLS (Python)| 0.74064 | N/A |\n",
    "| LassoCV (Python, scaled) | 0.7477 | N/A |\n",
    "| LassoCV (Python, scaled, extra features) |0.8303 | 0.7959 |\n",
    "| Lasso (Python, scaled, log target) | 0.8210 | 0.7876 | "
   ]
  },
  {
   "cell_type": "markdown",
   "metadata": {},
   "source": [
    "Note that moving the target from the price to the log of the price didn't change the $R^2$ signficantly (although note that we are still measuring the error on the _original_ variable)."
   ]
  }
 ],
 "metadata": {
  "kernelspec": {
   "display_name": "Python 3",
   "language": "python",
   "name": "python3"
  },
  "language_info": {
   "codemirror_mode": {
    "name": "ipython",
    "version": 3
   },
   "file_extension": ".py",
   "mimetype": "text/x-python",
   "name": "python",
   "nbconvert_exporter": "python",
   "pygments_lexer": "ipython3",
   "version": "3.6.5"
  },
  "varInspector": {
   "cols": {
    "lenName": 16,
    "lenType": 16,
    "lenVar": 40
   },
   "kernels_config": {
    "python": {
     "delete_cmd_postfix": "",
     "delete_cmd_prefix": "del ",
     "library": "var_list.py",
     "varRefreshCmd": "print(var_dic_list())"
    },
    "r": {
     "delete_cmd_postfix": ") ",
     "delete_cmd_prefix": "rm(",
     "library": "var_list.r",
     "varRefreshCmd": "cat(var_dic_list()) "
    }
   },
   "types_to_exclude": [
    "module",
    "function",
    "builtin_function_or_method",
    "instance",
    "_Feature"
   ],
   "window_display": false
  }
 },
 "nbformat": 4,
 "nbformat_minor": 2
}
