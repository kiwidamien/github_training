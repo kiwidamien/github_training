{
 "cells": [
  {
   "cell_type": "markdown",
   "metadata": {},
   "source": [
    "## Import libraries"
   ]
  },
  {
   "cell_type": "code",
   "execution_count": 1,
   "metadata": {
    "ExecuteTime": {
     "end_time": "2019-05-03T17:59:34.377359Z",
     "start_time": "2019-05-03T17:59:33.593349Z"
    }
   },
   "outputs": [],
   "source": [
    "import pandas as pd\n",
    "import numpy as np\n",
    "import matplotlib.pyplot as plt\n",
    "\n",
    "from sklearn.linear_model import Lasso\n",
    "from sklearn.model_selection import train_test_split, cross_val_score, GridSearchCV\n",
    "from sklearn.pipeline import Pipeline\n",
    "from sklearn.preprocessing import RobustScaler\n",
    "from sklearn.metrics import r2_score\n",
    "from sklearn.utils import resample\n",
    "\n",
    "from bootstrap import get_bootstrap_coefs\n",
    "\n",
    "%matplotlib inline"
   ]
  },
  {
   "cell_type": "code",
   "execution_count": 2,
   "metadata": {
    "ExecuteTime": {
     "end_time": "2019-05-03T17:59:34.386747Z",
     "start_time": "2019-05-03T17:59:34.379354Z"
    }
   },
   "outputs": [
    {
     "data": {
      "text/plain": [
       "array([[ 3.475,  3.475],\n",
       "       [97.525, 97.525]])"
      ]
     },
     "execution_count": 2,
     "metadata": {},
     "output_type": "execute_result"
    }
   ],
   "source": [
    "X = np.linspace(1,100,199)\n",
    "X2 = np.concatenate([X,X]).reshape(-1,2)\n",
    "np.percentile(X2, [2.5, 97.5], axis=0)"
   ]
  },
  {
   "cell_type": "markdown",
   "metadata": {},
   "source": [
    "## Read in data"
   ]
  },
  {
   "cell_type": "code",
   "execution_count": 3,
   "metadata": {
    "ExecuteTime": {
     "end_time": "2019-05-03T17:59:34.409987Z",
     "start_time": "2019-05-03T17:59:34.389195Z"
    }
   },
   "outputs": [
    {
     "data": {
      "text/html": [
       "<div>\n",
       "<style scoped>\n",
       "    .dataframe tbody tr th:only-of-type {\n",
       "        vertical-align: middle;\n",
       "    }\n",
       "\n",
       "    .dataframe tbody tr th {\n",
       "        vertical-align: top;\n",
       "    }\n",
       "\n",
       "    .dataframe thead th {\n",
       "        text-align: right;\n",
       "    }\n",
       "</style>\n",
       "<table border=\"1\" class=\"dataframe\">\n",
       "  <thead>\n",
       "    <tr style=\"text-align: right;\">\n",
       "      <th></th>\n",
       "      <th>CRIM</th>\n",
       "      <th>ZN</th>\n",
       "      <th>INDUS</th>\n",
       "      <th>CHAS</th>\n",
       "      <th>NOX</th>\n",
       "      <th>RM</th>\n",
       "      <th>AGE</th>\n",
       "      <th>DIS</th>\n",
       "      <th>RAD</th>\n",
       "      <th>TAX</th>\n",
       "      <th>PTRATIO</th>\n",
       "      <th>B</th>\n",
       "      <th>LSTAT</th>\n",
       "      <th>MEDV</th>\n",
       "    </tr>\n",
       "  </thead>\n",
       "  <tbody>\n",
       "    <tr>\n",
       "      <th>0</th>\n",
       "      <td>0.00632</td>\n",
       "      <td>18.0</td>\n",
       "      <td>2.31</td>\n",
       "      <td>0</td>\n",
       "      <td>0.538</td>\n",
       "      <td>6.575</td>\n",
       "      <td>65.2</td>\n",
       "      <td>4.0900</td>\n",
       "      <td>1</td>\n",
       "      <td>296</td>\n",
       "      <td>15.3</td>\n",
       "      <td>396.90</td>\n",
       "      <td>4.98</td>\n",
       "      <td>24.0</td>\n",
       "    </tr>\n",
       "    <tr>\n",
       "      <th>1</th>\n",
       "      <td>0.02731</td>\n",
       "      <td>0.0</td>\n",
       "      <td>7.07</td>\n",
       "      <td>0</td>\n",
       "      <td>0.469</td>\n",
       "      <td>6.421</td>\n",
       "      <td>78.9</td>\n",
       "      <td>4.9671</td>\n",
       "      <td>2</td>\n",
       "      <td>242</td>\n",
       "      <td>17.8</td>\n",
       "      <td>396.90</td>\n",
       "      <td>9.14</td>\n",
       "      <td>21.6</td>\n",
       "    </tr>\n",
       "    <tr>\n",
       "      <th>2</th>\n",
       "      <td>0.02729</td>\n",
       "      <td>0.0</td>\n",
       "      <td>7.07</td>\n",
       "      <td>0</td>\n",
       "      <td>0.469</td>\n",
       "      <td>7.185</td>\n",
       "      <td>61.1</td>\n",
       "      <td>4.9671</td>\n",
       "      <td>2</td>\n",
       "      <td>242</td>\n",
       "      <td>17.8</td>\n",
       "      <td>392.83</td>\n",
       "      <td>4.03</td>\n",
       "      <td>34.7</td>\n",
       "    </tr>\n",
       "    <tr>\n",
       "      <th>3</th>\n",
       "      <td>0.03237</td>\n",
       "      <td>0.0</td>\n",
       "      <td>2.18</td>\n",
       "      <td>0</td>\n",
       "      <td>0.458</td>\n",
       "      <td>6.998</td>\n",
       "      <td>45.8</td>\n",
       "      <td>6.0622</td>\n",
       "      <td>3</td>\n",
       "      <td>222</td>\n",
       "      <td>18.7</td>\n",
       "      <td>394.63</td>\n",
       "      <td>2.94</td>\n",
       "      <td>33.4</td>\n",
       "    </tr>\n",
       "    <tr>\n",
       "      <th>4</th>\n",
       "      <td>0.06905</td>\n",
       "      <td>0.0</td>\n",
       "      <td>2.18</td>\n",
       "      <td>0</td>\n",
       "      <td>0.458</td>\n",
       "      <td>7.147</td>\n",
       "      <td>54.2</td>\n",
       "      <td>6.0622</td>\n",
       "      <td>3</td>\n",
       "      <td>222</td>\n",
       "      <td>18.7</td>\n",
       "      <td>396.90</td>\n",
       "      <td>5.33</td>\n",
       "      <td>36.2</td>\n",
       "    </tr>\n",
       "  </tbody>\n",
       "</table>\n",
       "</div>"
      ],
      "text/plain": [
       "      CRIM    ZN  INDUS  CHAS    NOX     RM   AGE     DIS  RAD  TAX  PTRATIO  \\\n",
       "0  0.00632  18.0   2.31     0  0.538  6.575  65.2  4.0900    1  296     15.3   \n",
       "1  0.02731   0.0   7.07     0  0.469  6.421  78.9  4.9671    2  242     17.8   \n",
       "2  0.02729   0.0   7.07     0  0.469  7.185  61.1  4.9671    2  242     17.8   \n",
       "3  0.03237   0.0   2.18     0  0.458  6.998  45.8  6.0622    3  222     18.7   \n",
       "4  0.06905   0.0   2.18     0  0.458  7.147  54.2  6.0622    3  222     18.7   \n",
       "\n",
       "        B  LSTAT  MEDV  \n",
       "0  396.90   4.98  24.0  \n",
       "1  396.90   9.14  21.6  \n",
       "2  392.83   4.03  34.7  \n",
       "3  394.63   2.94  33.4  \n",
       "4  396.90   5.33  36.2  "
      ]
     },
     "execution_count": 3,
     "metadata": {},
     "output_type": "execute_result"
    }
   ],
   "source": [
    "housing = pd.read_csv('data/boston_house_prices.csv')\n",
    "housing.head()"
   ]
  },
  {
   "cell_type": "markdown",
   "metadata": {},
   "source": [
    "## Update to a cross-validated approach\n",
    "\n",
    "\n",
    "### TODO:\n",
    "* [x] Do a train-test split\n",
    "* [x] Do cross-validation and regularization\n",
    "* [x] Estimate parameters using Bootstrapping"
   ]
  },
  {
   "cell_type": "code",
   "execution_count": 4,
   "metadata": {
    "ExecuteTime": {
     "end_time": "2019-05-03T17:59:34.415548Z",
     "start_time": "2019-05-03T17:59:34.411910Z"
    }
   },
   "outputs": [],
   "source": [
    "features = housing.drop('MEDV', axis=1)\n",
    "target = housing['MEDV']"
   ]
  },
  {
   "cell_type": "code",
   "execution_count": 5,
   "metadata": {
    "ExecuteTime": {
     "end_time": "2019-05-03T17:59:34.524542Z",
     "start_time": "2019-05-03T17:59:34.417317Z"
    }
   },
   "outputs": [],
   "source": [
    "# Add in new features\n",
    "features['RM_sq'] = features['RM']**2\n",
    "features['log_LSTAT'] = np.log1p(features['LSTAT'])"
   ]
  },
  {
   "cell_type": "code",
   "execution_count": 6,
   "metadata": {
    "ExecuteTime": {
     "end_time": "2019-05-03T17:59:34.531531Z",
     "start_time": "2019-05-03T17:59:34.526504Z"
    }
   },
   "outputs": [],
   "source": [
    "features_train, features_test, target_train, target_test = train_test_split(features, target,\n",
    "                                                                           random_state=42)\n"
   ]
  },
  {
   "cell_type": "markdown",
   "metadata": {},
   "source": [
    "## Pipelining\n",
    "\n",
    "We should be scaling our data inside each fold, so we should group the scaler and the Lasso regression into a pipeline."
   ]
  },
  {
   "cell_type": "code",
   "execution_count": 7,
   "metadata": {
    "ExecuteTime": {
     "end_time": "2019-05-03T17:59:34.538220Z",
     "start_time": "2019-05-03T17:59:34.533441Z"
    }
   },
   "outputs": [],
   "source": [
    "scaler = RobustScaler()\n",
    "lasso_regressor = Lasso(max_iter=5000)\n",
    "\n",
    "pipeline = Pipeline([\n",
    "    ('scaler', scaler),\n",
    "    ('lasso', lasso_regressor)\n",
    "])\n",
    "\n",
    "params = {\n",
    "    'lasso__alpha': np.logspace(-4, 2, 100)\n",
    "}"
   ]
  },
  {
   "cell_type": "code",
   "execution_count": 8,
   "metadata": {
    "ExecuteTime": {
     "end_time": "2019-05-03T17:59:38.499908Z",
     "start_time": "2019-05-03T17:59:34.540393Z"
    }
   },
   "outputs": [
    {
     "data": {
      "text/plain": [
       "GridSearchCV(cv=5, error_score='raise-deprecating',\n",
       "       estimator=Pipeline(memory=None,\n",
       "     steps=[('scaler', RobustScaler(copy=True, quantile_range=(25.0, 75.0), with_centering=True,\n",
       "       with_scaling=True)), ('lasso', Lasso(alpha=1.0, copy_X=True, fit_intercept=True, max_iter=5000,\n",
       "   normalize=False, positive=False, precompute=False, random_state=None,\n",
       "   selection='cyclic', tol=0.0001, warm_start=False))]),\n",
       "       fit_params=None, iid=False, n_jobs=None,\n",
       "       param_grid={'lasso__alpha': array([1.00000e-04, 1.14976e-04, ..., 8.69749e+01, 1.00000e+02])},\n",
       "       pre_dispatch='2*n_jobs', refit=True, return_train_score=True,\n",
       "       scoring=None, verbose=0)"
      ]
     },
     "execution_count": 8,
     "metadata": {},
     "output_type": "execute_result"
    }
   ],
   "source": [
    "grid = GridSearchCV(pipeline, param_grid=params, cv=5, iid=False, return_train_score=True)\n",
    "grid.fit(features_train, target_train)"
   ]
  },
  {
   "cell_type": "code",
   "execution_count": 9,
   "metadata": {
    "ExecuteTime": {
     "end_time": "2019-05-03T17:59:38.506577Z",
     "start_time": "2019-05-03T17:59:38.501954Z"
    }
   },
   "outputs": [
    {
     "data": {
      "text/plain": [
       "0.01"
      ]
     },
     "execution_count": 9,
     "metadata": {},
     "output_type": "execute_result"
    }
   ],
   "source": [
    "# What is the best value of alpha?\n",
    "grid.best_estimator_.named_steps['lasso'].alpha"
   ]
  },
  {
   "cell_type": "code",
   "execution_count": 10,
   "metadata": {
    "ExecuteTime": {
     "end_time": "2019-05-03T17:59:38.514339Z",
     "start_time": "2019-05-03T17:59:38.508844Z"
    }
   },
   "outputs": [
    {
     "data": {
      "text/plain": [
       "0.7959320698178575"
      ]
     },
     "execution_count": 10,
     "metadata": {},
     "output_type": "execute_result"
    }
   ],
   "source": [
    "# what is our best mean test score?\n",
    "best_result_index = np.argmax(grid.cv_results_['mean_test_score'])\n",
    "grid.cv_results_['mean_test_score'][best_result_index]"
   ]
  },
  {
   "cell_type": "code",
   "execution_count": 11,
   "metadata": {
    "ExecuteTime": {
     "end_time": "2019-05-03T17:59:38.521735Z",
     "start_time": "2019-05-03T17:59:38.516777Z"
    }
   },
   "outputs": [
    {
     "data": {
      "text/plain": [
       "0.01"
      ]
     },
     "execution_count": 11,
     "metadata": {},
     "output_type": "execute_result"
    }
   ],
   "source": [
    "# Check this has the best alpha described above?\n",
    "grid.cv_results_['param_lasso__alpha'][best_result_index]"
   ]
  },
  {
   "cell_type": "markdown",
   "metadata": {},
   "source": [
    "Success! \n",
    "\n",
    "Our average $R^2$ on the hold out set is 0.7959.\n",
    "\n",
    "We should reserve the test set for when we have our final model that we want to use."
   ]
  },
  {
   "cell_type": "code",
   "execution_count": 12,
   "metadata": {
    "ExecuteTime": {
     "end_time": "2019-05-03T17:59:38.526157Z",
     "start_time": "2019-05-03T17:59:38.523666Z"
    }
   },
   "outputs": [],
   "source": [
    "best_alpha = grid.best_estimator_.named_steps['lasso'].alpha"
   ]
  },
  {
   "cell_type": "markdown",
   "metadata": {},
   "source": [
    "## Bootstrapping"
   ]
  },
  {
   "cell_type": "markdown",
   "metadata": {},
   "source": [
    "We want an estimate for the coefficient for each feature. We can do this with two goals in mind:\n",
    "- determining feature importance\n",
    "- interpretation\n",
    "\n",
    "We will emphasize interpretation here, which means that we need to train our models on the scaled features (so that regularization makes sense) but then report the coefficients on the original scale of the features (so that the interpretation is natural).\n",
    "\n",
    "Note that the final coefficients should **not**  be compared to determine the importance of features, because we are looking at the features on different scales."
   ]
  },
  {
   "cell_type": "code",
   "execution_count": 13,
   "metadata": {
    "ExecuteTime": {
     "end_time": "2019-05-03T17:59:38.535698Z",
     "start_time": "2019-05-03T17:59:38.528778Z"
    }
   },
   "outputs": [
    {
     "data": {
      "text/plain": [
       "True"
      ]
     },
     "execution_count": 13,
     "metadata": {},
     "output_type": "execute_result"
    }
   ],
   "source": [
    "type(features_train) == pd.core.frame.DataFrame"
   ]
  },
  {
   "cell_type": "code",
   "execution_count": 14,
   "metadata": {
    "ExecuteTime": {
     "end_time": "2019-05-03T17:59:45.954643Z",
     "start_time": "2019-05-03T17:59:38.538059Z"
    }
   },
   "outputs": [],
   "source": [
    "coefficients = get_bootstrap_coefs(RobustScaler(), Lasso(alpha=0.01, max_iter=5000), \n",
    "                                   features_train, target_train,\n",
    "                                   n_estimators=1000, return_scaled=False)"
   ]
  },
  {
   "cell_type": "code",
   "execution_count": 15,
   "metadata": {
    "ExecuteTime": {
     "end_time": "2019-05-03T17:59:47.229095Z",
     "start_time": "2019-05-03T17:59:45.956337Z"
    }
   },
   "outputs": [
    {
     "data": {
      "image/png": "[encoded data removed]",
      "text/plain": [
       "<matplotlib.figure.Figure at 0x1a1fcee080>"
      ]
     },
     "metadata": {},
     "output_type": "display_data"
    }
   ],
   "source": [
    "fig, axes = plt.subplots(ncols=2, nrows=len(features.columns)//2 + 1, \n",
    "                         sharey=True, squeeze=True, figsize=(12,20))\n",
    "\n",
    "for index, feature_name in enumerate(features_train.columns):\n",
    "    feature_values = features_train[feature_name]\n",
    "    best_est = np.mean(coefficients[:, index])\n",
    "    \n",
    "    col = index % 2\n",
    "    row = index // 2\n",
    "    this_plot = axes[row][col]\n",
    "    this_plot.hist(coefficients[:, index])\n",
    "    this_plot.set_xlabel(feature_name)\n",
    "    this_plot.axvline(best_est, color='k')"
   ]
  },
  {
   "cell_type": "code",
   "execution_count": 16,
   "metadata": {
    "ExecuteTime": {
     "end_time": "2019-05-03T17:59:47.237563Z",
     "start_time": "2019-05-03T17:59:47.231119Z"
    }
   },
   "outputs": [],
   "source": [
    "def get_percentile_frame(coeff, names, ci=95):\n",
    "    lower = (100 - ci)/2\n",
    "    upper = 100 - lower\n",
    "    percentiles = np.percentile(coefficients, [lower, upper], axis=0)\n",
    "    \n",
    "    centeroid = np.mean(coeff, axis=0)\n",
    "    #return np.array([centeroid, percentiles[:,0], percentiles[:, 1]])\n",
    "    return pd.DataFrame(np.array([centeroid, percentiles[0,:], percentiles[1,:]]).T,\n",
    "                        index=names, columns=['centeroid', 'lower', 'upper'])"
   ]
  },
  {
   "cell_type": "code",
   "execution_count": 17,
   "metadata": {
    "ExecuteTime": {
     "end_time": "2019-05-03T17:59:47.248558Z",
     "start_time": "2019-05-03T17:59:47.239295Z"
    }
   },
   "outputs": [
    {
     "data": {
      "text/html": [
       "<div>\n",
       "<style scoped>\n",
       "    .dataframe tbody tr th:only-of-type {\n",
       "        vertical-align: middle;\n",
       "    }\n",
       "\n",
       "    .dataframe tbody tr th {\n",
       "        vertical-align: top;\n",
       "    }\n",
       "\n",
       "    .dataframe thead th {\n",
       "        text-align: right;\n",
       "    }\n",
       "</style>\n",
       "<table border=\"1\" class=\"dataframe\">\n",
       "  <thead>\n",
       "    <tr style=\"text-align: right;\">\n",
       "      <th></th>\n",
       "      <th>centeroid</th>\n",
       "      <th>lower</th>\n",
       "      <th>upper</th>\n",
       "    </tr>\n",
       "  </thead>\n",
       "  <tbody>\n",
       "    <tr>\n",
       "      <th>CRIM</th>\n",
       "      <td>-0.160798</td>\n",
       "      <td>-0.201696</td>\n",
       "      <td>-0.134008</td>\n",
       "    </tr>\n",
       "    <tr>\n",
       "      <th>ZN</th>\n",
       "      <td>0.006499</td>\n",
       "      <td>-0.006913</td>\n",
       "      <td>0.020820</td>\n",
       "    </tr>\n",
       "    <tr>\n",
       "      <th>INDUS</th>\n",
       "      <td>0.029164</td>\n",
       "      <td>-0.003224</td>\n",
       "      <td>0.076938</td>\n",
       "    </tr>\n",
       "    <tr>\n",
       "      <th>CHAS</th>\n",
       "      <td>2.043935</td>\n",
       "      <td>0.374491</td>\n",
       "      <td>3.623410</td>\n",
       "    </tr>\n",
       "    <tr>\n",
       "      <th>NOX</th>\n",
       "      <td>-13.310002</td>\n",
       "      <td>-16.949921</td>\n",
       "      <td>-9.746623</td>\n",
       "    </tr>\n",
       "    <tr>\n",
       "      <th>RM</th>\n",
       "      <td>-17.132484</td>\n",
       "      <td>-24.005434</td>\n",
       "      <td>-9.691494</td>\n",
       "    </tr>\n",
       "    <tr>\n",
       "      <th>AGE</th>\n",
       "      <td>0.005472</td>\n",
       "      <td>-0.012364</td>\n",
       "      <td>0.025821</td>\n",
       "    </tr>\n",
       "    <tr>\n",
       "      <th>DIS</th>\n",
       "      <td>-0.997042</td>\n",
       "      <td>-1.243713</td>\n",
       "      <td>-0.771989</td>\n",
       "    </tr>\n",
       "    <tr>\n",
       "      <th>RAD</th>\n",
       "      <td>0.210046</td>\n",
       "      <td>0.142427</td>\n",
       "      <td>0.282575</td>\n",
       "    </tr>\n",
       "    <tr>\n",
       "      <th>TAX</th>\n",
       "      <td>-0.007533</td>\n",
       "      <td>-0.010924</td>\n",
       "      <td>-0.004059</td>\n",
       "    </tr>\n",
       "    <tr>\n",
       "      <th>PTRATIO</th>\n",
       "      <td>-0.712049</td>\n",
       "      <td>-0.876918</td>\n",
       "      <td>-0.543712</td>\n",
       "    </tr>\n",
       "    <tr>\n",
       "      <th>B</th>\n",
       "      <td>0.009899</td>\n",
       "      <td>0.007713</td>\n",
       "      <td>0.012226</td>\n",
       "    </tr>\n",
       "    <tr>\n",
       "      <th>LSTAT</th>\n",
       "      <td>0.145509</td>\n",
       "      <td>0.000000</td>\n",
       "      <td>0.313782</td>\n",
       "    </tr>\n",
       "    <tr>\n",
       "      <th>RM_sq</th>\n",
       "      <td>1.562317</td>\n",
       "      <td>0.974203</td>\n",
       "      <td>2.143126</td>\n",
       "    </tr>\n",
       "    <tr>\n",
       "      <th>log_LSTAT</th>\n",
       "      <td>-11.213081</td>\n",
       "      <td>-14.403933</td>\n",
       "      <td>-8.233193</td>\n",
       "    </tr>\n",
       "  </tbody>\n",
       "</table>\n",
       "</div>"
      ],
      "text/plain": [
       "           centeroid      lower     upper\n",
       "CRIM       -0.160798  -0.201696 -0.134008\n",
       "ZN          0.006499  -0.006913  0.020820\n",
       "INDUS       0.029164  -0.003224  0.076938\n",
       "CHAS        2.043935   0.374491  3.623410\n",
       "NOX       -13.310002 -16.949921 -9.746623\n",
       "RM        -17.132484 -24.005434 -9.691494\n",
       "AGE         0.005472  -0.012364  0.025821\n",
       "DIS        -0.997042  -1.243713 -0.771989\n",
       "RAD         0.210046   0.142427  0.282575\n",
       "TAX        -0.007533  -0.010924 -0.004059\n",
       "PTRATIO    -0.712049  -0.876918 -0.543712\n",
       "B           0.009899   0.007713  0.012226\n",
       "LSTAT       0.145509   0.000000  0.313782\n",
       "RM_sq       1.562317   0.974203  2.143126\n",
       "log_LSTAT -11.213081 -14.403933 -8.233193"
      ]
     },
     "execution_count": 17,
     "metadata": {},
     "output_type": "execute_result"
    }
   ],
   "source": [
    "percentiles = get_percentile_frame(coefficients, features.columns)\n",
    "percentiles"
   ]
  },
  {
   "cell_type": "code",
   "execution_count": 18,
   "metadata": {
    "ExecuteTime": {
     "end_time": "2019-05-03T17:59:47.256025Z",
     "start_time": "2019-05-03T17:59:47.250510Z"
    }
   },
   "outputs": [],
   "source": [
    "percentiles.to_html('confidence_intervals.html')"
   ]
  },
  {
   "cell_type": "markdown",
   "metadata": {},
   "source": [
    "## Now make the model using all the training data"
   ]
  },
  {
   "cell_type": "code",
   "execution_count": 19,
   "metadata": {
    "ExecuteTime": {
     "end_time": "2019-05-03T17:59:47.269517Z",
     "start_time": "2019-05-03T17:59:47.258239Z"
    }
   },
   "outputs": [
    {
     "data": {
      "text/plain": [
       "Pipeline(memory=None,\n",
       "     steps=[('scaler', RobustScaler(copy=True, quantile_range=(25.0, 75.0), with_centering=True,\n",
       "       with_scaling=True)), ('lasso', Lasso(alpha=0.01, copy_X=True, fit_intercept=True, max_iter=5000,\n",
       "   normalize=False, positive=False, precompute=False, random_state=None,\n",
       "   selection='cyclic', tol=0.0001, warm_start=False))])"
      ]
     },
     "execution_count": 19,
     "metadata": {},
     "output_type": "execute_result"
    }
   ],
   "source": [
    "best_pipeline = pipeline.set_params(lasso__alpha=best_alpha)\n",
    "best_pipeline.fit(features_train, target_train)"
   ]
  },
  {
   "cell_type": "markdown",
   "metadata": {},
   "source": [
    "While working on this, let's look at the coefficients of the `lasso_regressor`. It is common to use lasso (aka L1 regression) to do feature selection, as it tends to set the coefficients of unimportant features to zero (at least more aggressively than ridge does)."
   ]
  },
  {
   "cell_type": "code",
   "execution_count": 20,
   "metadata": {
    "ExecuteTime": {
     "end_time": "2019-05-03T17:59:47.275452Z",
     "start_time": "2019-05-03T17:59:47.271276Z"
    }
   },
   "outputs": [
    {
     "data": {
      "text/plain": [
       "array([ -0.50002798,   0.11634726,   0.35107776,   1.97564197,\n",
       "        -2.48959564, -13.1041632 ,   0.22915318,  -3.19124254,\n",
       "         2.49327597,  -2.84810478,  -2.58035193,   0.19445818,\n",
       "         1.45585243,  15.00444862,  -9.00026506])"
      ]
     },
     "execution_count": 20,
     "metadata": {},
     "output_type": "execute_result"
    }
   ],
   "source": [
    "best_pipeline.named_steps['lasso'].coef_"
   ]
  },
  {
   "cell_type": "markdown",
   "metadata": {},
   "source": [
    "None of the coefficients were chosen as unimportant, i.e. Lasso set none of the coefficients to zero. After scaling, the coefficients are more or less comparable. Let's get a ranking of the most important features: \n",
    "\n",
    "(Note: unlike above, these coefficients are on the _scaled_ features, so we _can_ compare them to determine which features are the most important)"
   ]
  },
  {
   "cell_type": "code",
   "execution_count": 21,
   "metadata": {
    "ExecuteTime": {
     "end_time": "2019-05-03T17:59:47.284097Z",
     "start_time": "2019-05-03T17:59:47.277516Z"
    }
   },
   "outputs": [
    {
     "name": "stdout",
     "output_type": "stream",
     "text": [
      "RM_sq      15.0044\n",
      "RM         -13.1042\n",
      "log_LSTAT  -9.0003\n",
      "DIS        -3.1912\n",
      "TAX        -2.8481\n",
      "PTRATIO    -2.5804\n",
      "RAD        2.4933\n",
      "NOX        -2.4896\n",
      "CHAS       1.9756\n",
      "LSTAT      1.4559\n",
      "CRIM       -0.5000\n",
      "INDUS      0.3511\n",
      "AGE        0.2292\n",
      "B          0.1945\n",
      "ZN         0.1163\n"
     ]
    }
   ],
   "source": [
    "feature_importance = sorted(zip(best_pipeline.named_steps['lasso'].coef_, features.columns), \n",
    "                            key=lambda x: abs(x[0]),\n",
    "                            reverse=True)\n",
    "for coef, name in feature_importance:\n",
    "    print(f'{name:10s} {coef:6.4f}')"
   ]
  },
  {
   "cell_type": "code",
   "execution_count": 22,
   "metadata": {
    "ExecuteTime": {
     "end_time": "2019-05-03T17:59:47.291317Z",
     "start_time": "2019-05-03T17:59:47.286028Z"
    }
   },
   "outputs": [
    {
     "data": {
      "text/plain": [
       "0.8303996500507633"
      ]
     },
     "execution_count": 22,
     "metadata": {},
     "output_type": "execute_result"
    }
   ],
   "source": [
    "best_pipeline.score(features_train, target_train)"
   ]
  },
  {
   "cell_type": "markdown",
   "metadata": {},
   "source": [
    "Let's start organizing results into a table. We are removing test results, and only want to look at validation results. The training $R^2$ tells us how we did after retraining on all the training data\n",
    "\n",
    "| Method | Train $R^2$ | Validation $R^2$ |\n",
    "| --- | --- | --- |\n",
    "| OLS (Excel) | 0.74064 | N/A |\n",
    "| OLS (Python)| 0.74064 | N/A |\n",
    "| LassoCV (Python, scaled) | 0.7477 | N/A |\n",
    "| LassoCV (Python, scaled, extra features) |0.8303 | 0.7959 |"
   ]
  },
  {
   "cell_type": "markdown",
   "metadata": {},
   "source": [
    "Our test score is significantly lower than our training score, suggesting that our model is still overfitting."
   ]
  },
  {
   "cell_type": "markdown",
   "metadata": {},
   "source": [
    "## Plot of residuals"
   ]
  },
  {
   "cell_type": "markdown",
   "metadata": {},
   "source": [
    "In Excel, we include a plot of residuals for every feature. We will do the same thing here"
   ]
  },
  {
   "cell_type": "code",
   "execution_count": 23,
   "metadata": {
    "ExecuteTime": {
     "end_time": "2019-05-03T17:59:47.296867Z",
     "start_time": "2019-05-03T17:59:47.292870Z"
    }
   },
   "outputs": [],
   "source": [
    "\n",
    "residuals = target_train - best_pipeline.predict(features_train)"
   ]
  },
  {
   "cell_type": "code",
   "execution_count": 24,
   "metadata": {
    "ExecuteTime": {
     "end_time": "2019-05-03T17:59:48.305025Z",
     "start_time": "2019-05-03T17:59:47.298860Z"
    }
   },
   "outputs": [
    {
     "data": {
      "image/png": "[encoded data removed]",
      "text/plain": [
       "<matplotlib.figure.Figure at 0x1a1fcee780>"
      ]
     },
     "metadata": {},
     "output_type": "display_data"
    }
   ],
   "source": [
    "fig, axes = plt.subplots(ncols=2, nrows=len(features.columns)//2 + 1, \n",
    "                         sharey=True, squeeze=True, figsize=(12,20))\n",
    "\n",
    "for index, feature_name in enumerate(features_train.columns):\n",
    "    feature_values = features_train[feature_name]\n",
    "    col = index % 2\n",
    "    row = index // 2\n",
    "    this_plot = axes[row][col]\n",
    "    this_plot.plot(feature_values, residuals, 'bo')\n",
    "    this_plot.set_xlabel(feature_name)"
   ]
  }
 ],
 "metadata": {
  "kernelspec": {
   "display_name": "Python 3",
   "language": "python",
   "name": "python3"
  },
  "language_info": {
   "codemirror_mode": {
    "name": "ipython",
    "version": 3
   },
   "file_extension": ".py",
   "mimetype": "text/x-python",
   "name": "python",
   "nbconvert_exporter": "python",
   "pygments_lexer": "ipython3",
   "version": "3.6.5"
  },
  "varInspector": {
   "cols": {
    "lenName": 16,
    "lenType": 16,
    "lenVar": 40
   },
   "kernels_config": {
    "python": {
     "delete_cmd_postfix": "",
     "delete_cmd_prefix": "del ",
     "library": "var_list.py",
     "varRefreshCmd": "print(var_dic_list())"
    },
    "r": {
     "delete_cmd_postfix": ") ",
     "delete_cmd_prefix": "rm(",
     "library": "var_list.r",
     "varRefreshCmd": "cat(var_dic_list()) "
    }
   },
   "types_to_exclude": [
    "module",
    "function",
    "builtin_function_or_method",
    "instance",
    "_Feature"
   ],
   "window_display": false
  }
 },
 "nbformat": 4,
 "nbformat_minor": 2
}
